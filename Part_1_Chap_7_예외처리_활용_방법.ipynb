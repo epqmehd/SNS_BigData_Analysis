{
  "cells": [
    {
      "cell_type": "markdown",
      "metadata": {
        "id": "view-in-github",
        "colab_type": "text"
      },
      "source": [
        "<a href=\"https://colab.research.google.com/github/smpark85/SNS_BigData_Analysis/blob/main/Part_1_Chap_7_%EC%98%88%EC%99%B8%EC%B2%98%EB%A6%AC_%ED%99%9C%EC%9A%A9_%EB%B0%A9%EB%B2%95.ipynb\" target=\"_parent\"><img src=\"https://colab.research.google.com/assets/colab-badge.svg\" alt=\"Open In Colab\"/></a>"
      ]
    },
    {
      "cell_type": "code",
      "execution_count": null,
      "metadata": {
        "id": "uQdvqIq4aXs9",
        "outputId": "47eb012b-b886-44d6-f130-ceacb1105361"
      },
      "outputs": [
        {
          "name": "stdout",
          "output_type": "stream",
          "text": [
            "정상적인 경우\n",
            "숫자 1개를 입력하세요: 10\n",
            "10\n",
            "\n",
            "\n",
            "예외가 발생하는 경우\n",
            "숫자 1개를 입력하세요:A\n"
          ]
        },
        {
          "ename": "ValueError",
          "evalue": "invalid literal for int() with base 10: 'A'",
          "output_type": "error",
          "traceback": [
            "\u001b[1;31m---------------------------------------------------------------------------\u001b[0m",
            "\u001b[1;31mValueError\u001b[0m                                Traceback (most recent call last)",
            "\u001b[1;32m<ipython-input-1-5576ee1244a0>\u001b[0m in \u001b[0;36m<module>\u001b[1;34m\u001b[0m\n\u001b[0;32m      9\u001b[0m \u001b[1;31m#예외가 발생하는 경우\u001b[0m\u001b[1;33m\u001b[0m\u001b[1;33m\u001b[0m\u001b[0m\n\u001b[0;32m     10\u001b[0m \u001b[0mprint\u001b[0m\u001b[1;33m(\u001b[0m\u001b[1;34m'예외가 발생하는 경우'\u001b[0m\u001b[1;33m)\u001b[0m\u001b[1;33m\u001b[0m\u001b[0m\n\u001b[1;32m---> 11\u001b[1;33m \u001b[0mno2\u001b[0m \u001b[1;33m=\u001b[0m \u001b[0mint\u001b[0m\u001b[1;33m(\u001b[0m\u001b[0minput\u001b[0m\u001b[1;33m(\u001b[0m\u001b[1;34m'숫자 1개를 입력하세요:'\u001b[0m\u001b[1;33m)\u001b[0m\u001b[1;33m)\u001b[0m\u001b[1;33m\u001b[0m\u001b[0m\n\u001b[0m",
            "\u001b[1;31mValueError\u001b[0m: invalid literal for int() with base 10: 'A'"
          ]
        }
      ],
      "source": [
        "# 예외처리 예제 1\n",
        "\n",
        "#정상적인 경우\n",
        "print('정상적인 경우')\n",
        "no1 = int(input('숫자 1개를 입력하세요: '))\n",
        "print(no1)\n",
        "\n",
        "print(\"\\n\")\n",
        "#예외가 발생하는 경우\n",
        "print('예외가 발생하는 경우')\n",
        "no2 = int(input('숫자 1개를 입력하세요:'))\n"
      ]
    },
    {
      "cell_type": "code",
      "execution_count": null,
      "metadata": {
        "id": "7D56PbqOaXtA",
        "outputId": "da856a45-6f03-476c-e818-ab26271123c7"
      },
      "outputs": [
        {
          "name": "stdout",
          "output_type": "stream",
          "text": [
            "예외가 발생하는 경우\n",
            "숫자 1개를 입력하세요:A\n",
            "숫자를 입력하세요\n"
          ]
        }
      ],
      "source": [
        "# 예외처리 예제 2\n",
        "#예외 처리를 적용한 경우\n",
        "print('예외가 발생하는 경우')\n",
        "try : \n",
        "    no2 = int(input('숫자 1개를 입력하세요:'))\n",
        "except ValueError :\n",
        "    print('숫자를 입력하세요')\n"
      ]
    },
    {
      "cell_type": "code",
      "execution_count": null,
      "metadata": {
        "id": "UiB_oNRraXtB",
        "outputId": "5e114be0-6526-4ec2-d52c-d35c09e91521"
      },
      "outputs": [
        {
          "ename": "ZeroDivisionError",
          "evalue": "division by zero",
          "output_type": "error",
          "traceback": [
            "\u001b[1;31m---------------------------------------------------------------------------\u001b[0m",
            "\u001b[1;31mZeroDivisionError\u001b[0m                         Traceback (most recent call last)",
            "\u001b[1;32m<ipython-input-3-d304a69ecb48>\u001b[0m in \u001b[0;36m<module>\u001b[1;34m\u001b[0m\n\u001b[0;32m      3\u001b[0m \u001b[0mno1\u001b[0m \u001b[1;33m=\u001b[0m \u001b[1;36m10\u001b[0m\u001b[1;33m\u001b[0m\u001b[0m\n\u001b[0;32m      4\u001b[0m \u001b[0mno2\u001b[0m \u001b[1;33m=\u001b[0m \u001b[1;36m0\u001b[0m\u001b[1;33m\u001b[0m\u001b[0m\n\u001b[1;32m----> 5\u001b[1;33m \u001b[0mprint\u001b[0m\u001b[1;33m(\u001b[0m\u001b[0mno1\u001b[0m \u001b[1;33m/\u001b[0m \u001b[0mno2\u001b[0m\u001b[1;33m)\u001b[0m\u001b[1;33m\u001b[0m\u001b[0m\n\u001b[0m",
            "\u001b[1;31mZeroDivisionError\u001b[0m: division by zero"
          ]
        }
      ],
      "source": [
        "# 예외처리 예제 3\n",
        "\n",
        "no1 = 10\n",
        "no2 = 0\n",
        "print(no1 / no2)"
      ]
    },
    {
      "cell_type": "code",
      "execution_count": null,
      "metadata": {
        "id": "ju0th5PyaXtB",
        "outputId": "37ae14cf-d2ec-4b00-d9ab-cd3eb0c06586"
      },
      "outputs": [
        {
          "name": "stdout",
          "output_type": "stream",
          "text": [
            " 0으로 나눌수 없습니다\n"
          ]
        }
      ],
      "source": [
        "try :\n",
        "    print( no1 / no2)\n",
        "except ZeroDivisionError :\n",
        "    print(\" 0으로 나눌수 없습니다\")"
      ]
    },
    {
      "cell_type": "code",
      "execution_count": null,
      "metadata": {
        "id": "g0Nj9tf8aXtC",
        "outputId": "a484cd4b-9289-4010-bde2-2527a4ca7141"
      },
      "outputs": [
        {
          "name": "stdout",
          "output_type": "stream",
          "text": [
            " 예외 상황이 발생했습니다 \n"
          ]
        }
      ],
      "source": [
        "#예외처리 예제 4\n",
        "try :\n",
        "    print( no1 / no2)\n",
        "except ( ValueError , ZeroDivisionError) :\n",
        "    print( \" 예외 상황이 발생했습니다 \")"
      ]
    },
    {
      "cell_type": "code",
      "execution_count": null,
      "metadata": {
        "id": "QSFpbPVLaXtC",
        "outputId": "70c603c2-4ac0-4604-e37f-e24d2db97e75"
      },
      "outputs": [
        {
          "name": "stdout",
          "output_type": "stream",
          "text": [
            "0으로 나눌수 없습니다\n"
          ]
        }
      ],
      "source": [
        "# 예외처리 예제 5\n",
        "\n",
        "no1 = 10\n",
        "no2 = 0\n",
        "\n",
        "try : \n",
        "    print( no1 / no2 )\n",
        "except ZeroDivisionError :\n",
        "    print(\"0으로 나눌수 없습니다\")\n",
        "except ValueError :\n",
        "    print(\"잘못된 값입니다\")\n",
        "    "
      ]
    },
    {
      "cell_type": "code",
      "execution_count": null,
      "metadata": {
        "id": "8AXI3W9saXtD",
        "outputId": "fd060fcf-a74b-4fde-827f-bc6a19a490a6"
      },
      "outputs": [
        {
          "name": "stdout",
          "output_type": "stream",
          "text": [
            "예외가 발생했습니다\n"
          ]
        }
      ],
      "source": [
        "# 예외처리 예제 6\n",
        "\n",
        "no1 = 10\n",
        "no2 = 0\n",
        "\n",
        "try : \n",
        "    print(no1 / no2)\n",
        "except :\n",
        "    print(\"예외가 발생했습니다\")\n",
        "    "
      ]
    },
    {
      "cell_type": "code",
      "execution_count": null,
      "metadata": {
        "id": "ZZmGSs3iaXtD",
        "outputId": "e87db6be-2d8c-47ee-9b94-2c68dc9adaff"
      },
      "outputs": [
        {
          "name": "stdout",
          "output_type": "stream",
          "text": [
            "숫자만 입력하세요: A\n",
            "꼭 숫자만 입력하세요!\n"
          ]
        }
      ],
      "source": [
        "# 예외처리 예제 7\n",
        "\n",
        "try :\n",
        "    no = int(input(\"숫자만 입력하세요: \"))\n",
        "except :\n",
        "    print(\"꼭 숫자만 입력하세요!\")\n",
        "else :\n",
        "    print(\" 입력하신 숫자는 %s 입니다\" %no)"
      ]
    },
    {
      "cell_type": "code",
      "execution_count": null,
      "metadata": {
        "id": "FfEf8NdcaXtE"
      },
      "outputs": [],
      "source": []
    }
  ],
  "metadata": {
    "kernelspec": {
      "display_name": "Python 3",
      "language": "python",
      "name": "python3"
    },
    "language_info": {
      "codemirror_mode": {
        "name": "ipython",
        "version": 3
      },
      "file_extension": ".py",
      "mimetype": "text/x-python",
      "name": "python",
      "nbconvert_exporter": "python",
      "pygments_lexer": "ipython3",
      "version": "3.5.4"
    },
    "colab": {
      "provenance": [],
      "include_colab_link": true
    }
  },
  "nbformat": 4,
  "nbformat_minor": 0
}